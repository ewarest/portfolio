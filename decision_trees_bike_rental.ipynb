{
 "cells": [
  {
   "cell_type": "markdown",
   "metadata": {},
   "source": [
    "## Predicting Bike Rentals\n",
    "\n",
    "1. <a href='#exploration'>Data Exploration</a><br>\n",
    "2. <a href='#feature'>Calculating Features</a><br>\n",
    "3. <a href='#preprocess'>Preprocessing and Splitting the Data Into Train and Test Sets</a><br>\n",
    "4. <a href='#lin_reg'>Applying Linear Regression </a><br>\n",
    "5. <a href='#tree'>Applying Decision Trees </a><br>\n",
    "6. <a href='#forest'>Applying Random Forests</a><br>\n",
    "7. <a href='#params'>Finding Best Parameters for Random Forest</a><br>\n",
    "8. <a href='#results'>Results</a>\n",
    "\n",
    "\n",
    "### Data Exploration <a id='exploration'></a>\n",
    "Many American cities have communal bike sharing stations where you can rent bicycles by the hour or day. Washington, D.C. is one of these cities. The dataset is compiled by Hadi Fanaee-T from the university of Porto with bike rental data from district of Washington D.C. The file contains 17380 rows, with each row representing the number of bike rentals for a single hour of a single day."
   ]
  },
  {
   "cell_type": "code",
   "execution_count": 44,
   "metadata": {
    "collapsed": false
   },
   "outputs": [
    {
     "name": "stdout",
     "output_type": "stream",
     "text": [
      "   instant      dteday  season  yr  mnth  hr  holiday  weekday  workingday  \\\n",
      "0        1  2011-01-01       1   0     1   0        0        6           0   \n",
      "1        2  2011-01-01       1   0     1   1        0        6           0   \n",
      "2        3  2011-01-01       1   0     1   2        0        6           0   \n",
      "3        4  2011-01-01       1   0     1   3        0        6           0   \n",
      "4        5  2011-01-01       1   0     1   4        0        6           0   \n",
      "\n",
      "   weathersit  temp   atemp   hum  windspeed  casual  registered  cnt  \n",
      "0           1  0.24  0.2879  0.81        0.0       3          13   16  \n",
      "1           1  0.22  0.2727  0.80        0.0       8          32   40  \n",
      "2           1  0.22  0.2727  0.80        0.0       5          27   32  \n",
      "3           1  0.24  0.2879  0.75        0.0       3          10   13  \n",
      "4           1  0.24  0.2879  0.75        0.0       0           1    1  \n",
      "temp          0.404772\n",
      "atemp         0.400929\n",
      "hr            0.394071\n",
      "yr            0.250495\n",
      "hum          -0.322911\n",
      "time_label   -0.494422\n",
      "Name: cnt, dtype: float64\n"
     ]
    },
    {
     "data": {
      "text/plain": [
       "yr\n",
       "0    1243103\n",
       "1    2049576\n",
       "Name: cnt, dtype: int64"
      ]
     },
     "execution_count": 44,
     "metadata": {},
     "output_type": "execute_result"
    },
    {
     "data": {
      "image/png": "[encoded data removed]",
      "text/plain": [
       "<matplotlib.figure.Figure at 0x104b54ef0>"
      ]
     },
     "metadata": {},
     "output_type": "display_data"
    }
   ],
   "source": [
    "import pandas as pd\n",
    "import seaborn as sns\n",
    "import numpy as np\n",
    "%matplotlib inline\n",
    "\n",
    "#read in data\n",
    "bike_rentals = pd.read_csv('bike_rental_hour.csv')\n",
    "print(bike_rentals.head())\n",
    "\n",
    "#Histogram of the data\n",
    "bike_rentals['cnt'].hist()\n",
    "\n",
    "#sorted correlation of all parameters with prediction target cnt-column\n",
    "corel = data_normal.corr()['cnt'].sort_values(ascending=False)\n",
    "print(corel[(corel.abs()<1) & (corel.abs()>0.2)])\n",
    "\n",
    "#pivot_table\n",
    "table = pd.pivot_table(bike_rentals, values='cnt', index=['yr'], aggfunc=np.sum)\n",
    "table"
   ]
  },
  {
   "cell_type": "markdown",
   "metadata": {},
   "source": [
    "### Calculating Features <a id='feature'></a>\n",
    "\n",
    "Create a new feature that adds up several hours to parts of the day.\n",
    "    - 1 if the hour is from 6 to 12\n",
    "    - 2 if the hour is from 12 to 18\n",
    "    - 3 if the hour is from 18 to 24\n",
    "    - 4 if the hour is from 0 to 6"
   ]
  },
  {
   "cell_type": "code",
   "execution_count": 45,
   "metadata": {
    "collapsed": false
   },
   "outputs": [
    {
     "data": {
      "text/html": [
       "<div>\n",
       "<table border=\"1\" class=\"dataframe\">\n",
       "  <thead>\n",
       "    <tr style=\"text-align: right;\">\n",
       "      <th></th>\n",
       "      <th>instant</th>\n",
       "      <th>dteday</th>\n",
       "      <th>season</th>\n",
       "      <th>yr</th>\n",
       "      <th>mnth</th>\n",
       "      <th>hr</th>\n",
       "      <th>holiday</th>\n",
       "      <th>weekday</th>\n",
       "      <th>workingday</th>\n",
       "      <th>weathersit</th>\n",
       "      <th>temp</th>\n",
       "      <th>atemp</th>\n",
       "      <th>hum</th>\n",
       "      <th>windspeed</th>\n",
       "      <th>casual</th>\n",
       "      <th>registered</th>\n",
       "      <th>cnt</th>\n",
       "      <th>time_label</th>\n",
       "    </tr>\n",
       "  </thead>\n",
       "  <tbody>\n",
       "    <tr>\n",
       "      <th>0</th>\n",
       "      <td>1</td>\n",
       "      <td>2011-01-01</td>\n",
       "      <td>1</td>\n",
       "      <td>0</td>\n",
       "      <td>1</td>\n",
       "      <td>0</td>\n",
       "      <td>0</td>\n",
       "      <td>6</td>\n",
       "      <td>0</td>\n",
       "      <td>1</td>\n",
       "      <td>0.24</td>\n",
       "      <td>0.2879</td>\n",
       "      <td>0.81</td>\n",
       "      <td>0.0</td>\n",
       "      <td>3</td>\n",
       "      <td>13</td>\n",
       "      <td>16</td>\n",
       "      <td>4</td>\n",
       "    </tr>\n",
       "    <tr>\n",
       "      <th>1</th>\n",
       "      <td>2</td>\n",
       "      <td>2011-01-01</td>\n",
       "      <td>1</td>\n",
       "      <td>0</td>\n",
       "      <td>1</td>\n",
       "      <td>1</td>\n",
       "      <td>0</td>\n",
       "      <td>6</td>\n",
       "      <td>0</td>\n",
       "      <td>1</td>\n",
       "      <td>0.22</td>\n",
       "      <td>0.2727</td>\n",
       "      <td>0.80</td>\n",
       "      <td>0.0</td>\n",
       "      <td>8</td>\n",
       "      <td>32</td>\n",
       "      <td>40</td>\n",
       "      <td>4</td>\n",
       "    </tr>\n",
       "    <tr>\n",
       "      <th>2</th>\n",
       "      <td>3</td>\n",
       "      <td>2011-01-01</td>\n",
       "      <td>1</td>\n",
       "      <td>0</td>\n",
       "      <td>1</td>\n",
       "      <td>2</td>\n",
       "      <td>0</td>\n",
       "      <td>6</td>\n",
       "      <td>0</td>\n",
       "      <td>1</td>\n",
       "      <td>0.22</td>\n",
       "      <td>0.2727</td>\n",
       "      <td>0.80</td>\n",
       "      <td>0.0</td>\n",
       "      <td>5</td>\n",
       "      <td>27</td>\n",
       "      <td>32</td>\n",
       "      <td>4</td>\n",
       "    </tr>\n",
       "    <tr>\n",
       "      <th>3</th>\n",
       "      <td>4</td>\n",
       "      <td>2011-01-01</td>\n",
       "      <td>1</td>\n",
       "      <td>0</td>\n",
       "      <td>1</td>\n",
       "      <td>3</td>\n",
       "      <td>0</td>\n",
       "      <td>6</td>\n",
       "      <td>0</td>\n",
       "      <td>1</td>\n",
       "      <td>0.24</td>\n",
       "      <td>0.2879</td>\n",
       "      <td>0.75</td>\n",
       "      <td>0.0</td>\n",
       "      <td>3</td>\n",
       "      <td>10</td>\n",
       "      <td>13</td>\n",
       "      <td>4</td>\n",
       "    </tr>\n",
       "    <tr>\n",
       "      <th>4</th>\n",
       "      <td>5</td>\n",
       "      <td>2011-01-01</td>\n",
       "      <td>1</td>\n",
       "      <td>0</td>\n",
       "      <td>1</td>\n",
       "      <td>4</td>\n",
       "      <td>0</td>\n",
       "      <td>6</td>\n",
       "      <td>0</td>\n",
       "      <td>1</td>\n",
       "      <td>0.24</td>\n",
       "      <td>0.2879</td>\n",
       "      <td>0.75</td>\n",
       "      <td>0.0</td>\n",
       "      <td>0</td>\n",
       "      <td>1</td>\n",
       "      <td>1</td>\n",
       "      <td>4</td>\n",
       "    </tr>\n",
       "  </tbody>\n",
       "</table>\n",
       "</div>"
      ],
      "text/plain": [
       "   instant      dteday  season  yr  mnth  hr  holiday  weekday  workingday  \\\n",
       "0        1  2011-01-01       1   0     1   0        0        6           0   \n",
       "1        2  2011-01-01       1   0     1   1        0        6           0   \n",
       "2        3  2011-01-01       1   0     1   2        0        6           0   \n",
       "3        4  2011-01-01       1   0     1   3        0        6           0   \n",
       "4        5  2011-01-01       1   0     1   4        0        6           0   \n",
       "\n",
       "   weathersit  temp   atemp   hum  windspeed  casual  registered  cnt  \\\n",
       "0           1  0.24  0.2879  0.81        0.0       3          13   16   \n",
       "1           1  0.22  0.2727  0.80        0.0       8          32   40   \n",
       "2           1  0.22  0.2727  0.80        0.0       5          27   32   \n",
       "3           1  0.24  0.2879  0.75        0.0       3          10   13   \n",
       "4           1  0.24  0.2879  0.75        0.0       0           1    1   \n",
       "\n",
       "   time_label  \n",
       "0           4  \n",
       "1           4  \n",
       "2           4  \n",
       "3           4  \n",
       "4           4  "
      ]
     },
     "execution_count": 45,
     "metadata": {},
     "output_type": "execute_result"
    }
   ],
   "source": [
    "def assign_label(x):\n",
    "    if x < 7:\n",
    "        return 4\n",
    "    elif x<13:\n",
    "        return 1\n",
    "    elif x<19:\n",
    "        return 2\n",
    "    elif x>18:\n",
    "        return 3\n",
    "    \n",
    "bike_rentals['time_label'] = bike_rentals['hr'].apply(lambda x:assign_label(x))\n",
    "bike_rentals.head(5)"
   ]
  },
  {
   "cell_type": "markdown",
   "metadata": {},
   "source": [
    "### Preprocessing and Splitting the Data Into Train and Test Sets <a id='preprocess'></a>\n",
    "\n",
    "- dropping columns that are not numerical\n",
    "- normalize data\n",
    "- create a train set with 80% of the date and a test set with the remaining 20%"
   ]
  },
  {
   "cell_type": "code",
   "execution_count": 46,
   "metadata": {
    "collapsed": false
   },
   "outputs": [
    {
     "name": "stdout",
     "output_type": "stream",
     "text": [
      "   season   yr  mnth        hr  holiday  weekday  workingday  weathersit  \\\n",
      "0     0.0  0.0   0.0  0.000000      0.0      1.0         0.0         0.0   \n",
      "1     0.0  0.0   0.0  0.043478      0.0      1.0         0.0         0.0   \n",
      "2     0.0  0.0   0.0  0.086957      0.0      1.0         0.0         0.0   \n",
      "3     0.0  0.0   0.0  0.130435      0.0      1.0         0.0         0.0   \n",
      "4     0.0  0.0   0.0  0.173913      0.0      1.0         0.0         0.0   \n",
      "\n",
      "       temp   atemp   hum  windspeed  cnt  time_label  \n",
      "0  0.224490  0.2879  0.81        0.0   16         1.0  \n",
      "1  0.204082  0.2727  0.80        0.0   40         1.0  \n",
      "2  0.204082  0.2727  0.80        0.0   32         1.0  \n",
      "3  0.224490  0.2879  0.75        0.0   13         1.0  \n",
      "4  0.224490  0.2879  0.75        0.0    1         1.0  \n",
      "data_normal length: (17379, 14)\n",
      "train length: (13903, 14)\n",
      "test length: (3476, 14)\n"
     ]
    }
   ],
   "source": [
    "from sklearn.preprocessing import MinMaxScaler\n",
    "from sklearn.model_selection import train_test_split\n",
    "\n",
    "#drop columns\n",
    "data_reduced = bike_rentals.drop(['instant','casual','registered','dteday'],axis=1)\n",
    "\n",
    "#normalize data\n",
    "scaler = MinMaxScaler()\n",
    "data_normal = scaler.fit_transform(data_reduced)\n",
    "data_normal = pd.DataFrame(data_normal,columns=data_reduced.columns)\n",
    "data_normal['cnt']=data_reduced['cnt']\n",
    "print(data_normal.head())\n",
    "\n",
    "#choose features with high correlation with prediction target \n",
    "feature_list = ['atemp','hr','yr','hum','time_label'] \n",
    "print('data_normal length: {}'.format(data_normal.shape))\n",
    "\n",
    "#create train (80%) and test (20%) set\n",
    "train, test = train_test_split(data_normal, test_size=0.2, random_state=42)\n",
    "print('train length: {}'.format(train.shape))\n",
    "print('test length: {}'.format(test.shape))\n",
    "train_x = train[feature_list]\n",
    "train_y = train['cnt']\n",
    "test_x = test[feature_list]\n",
    "test_y = test['cnt']"
   ]
  },
  {
   "cell_type": "markdown",
   "metadata": {},
   "source": [
    "### Applying Linear Regression <a id='lin_reg'></a>\n",
    "\n",
    "- first try what results could be achieved with a simple linear regression\n",
    "- root mean squarred error is chosen to handle positive and negative differences the same, to have a error measure which could easily be imagined and to make different models comparable\n",
    "- the resulting RMSE of 128.9 is a good starting point, but leaves a lot of space for improvements"
   ]
  },
  {
   "cell_type": "code",
   "execution_count": 47,
   "metadata": {
    "collapsed": false
   },
   "outputs": [
    {
     "name": "stdout",
     "output_type": "stream",
     "text": [
      "mean_cross_val_scores: \n",
      "128.90665026860057\n",
      "\n",
      "Predicted y-values: \n",
      "0    365.231780\n",
      "1    195.878366\n",
      "2    -49.051784\n",
      "3    336.661385\n",
      "4    -71.184726\n",
      "dtype: float64\n",
      "\n",
      "Original y-values: \n",
      "12830    425\n",
      "8688      88\n",
      "7091       4\n",
      "12230    526\n",
      "431       13\n",
      "Name: cnt, dtype: int64\n"
     ]
    }
   ],
   "source": [
    "from sklearn.linear_model import LinearRegression\n",
    "from sklearn.metrics import mean_squared_error\n",
    "from sklearn.model_selection import cross_val_score\n",
    "\n",
    "model = LinearRegression()\n",
    "model.fit(train_x, train_y)\n",
    "y_pred = model.predict(test_x)\n",
    "y_pred = pd.Series(y_pred)\n",
    "\n",
    "scores = cross_val_score(model, data_normal[feature_list], data_normal['cnt'],\n",
    "                         scoring=\"neg_mean_squared_error\", cv=10)\n",
    "reg_scores = np.sqrt(-scores)\n",
    "print('mean_cross_val_scores: \\n{}'.format(np.mean(reg_scores)))\n",
    "print('\\nPredicted y-values: \\n{}'.format(y_pred.head()))\n",
    "print('\\nOriginal y-values: \\n{}'.format(test_y.head()))"
   ]
  },
  {
   "cell_type": "markdown",
   "metadata": {},
   "source": [
    "### Applying Decision Trees <a id='tree'></a>\n",
    "\n",
    "- now we try to predict bike rentals with a decision tree\n",
    "- decision trees apply decision rules on the given parameters to predict an output\n",
    "- the resulting RMSE of 123.3 is a small improvement compared to Linear Regression"
   ]
  },
  {
   "cell_type": "code",
   "execution_count": 48,
   "metadata": {
    "collapsed": false
   },
   "outputs": [
    {
     "name": "stdout",
     "output_type": "stream",
     "text": [
      "mean_cross_val_scores: \n",
      "123.3603448226504\n",
      "\n",
      "Predicted y-values: \n",
      "0    360.0\n",
      "1    112.0\n",
      "2     12.0\n",
      "3    442.0\n",
      "4     53.0\n",
      "dtype: float64\n",
      "\n",
      "Original y-values: \n",
      "12830    425\n",
      "8688      88\n",
      "7091       4\n",
      "12230    526\n",
      "431       13\n",
      "Name: cnt, dtype: int64\n"
     ]
    }
   ],
   "source": [
    "from sklearn.tree import DecisionTreeRegressor\n",
    "\n",
    "tree_reg = DecisionTreeRegressor()\n",
    "tree_reg.fit(train_x, train_y)\n",
    "y_pred = tree_reg.predict(test_x)\n",
    "y_pred = pd.Series(y_pred)\n",
    "\n",
    "scores = cross_val_score(tree_reg, data_normal[feature_list], data_normal['cnt'],\n",
    "                         scoring=\"neg_mean_squared_error\", cv=10)\n",
    "tree_rmse_scores = np.sqrt(-scores)\n",
    "print('mean_cross_val_scores: \\n{}'.format(np.mean(tree_rmse_scores)))\n",
    "print('\\nPredicted y-values: \\n{}'.format(y_pred.head()))\n",
    "print('\\nOriginal y-values: \\n{}'.format(test_y.head()))"
   ]
  },
  {
   "cell_type": "markdown",
   "metadata": {},
   "source": [
    "### Applying Random Forests <a id='forest'></a>\n",
    "\n",
    "- Now we try to tune our model with a random forest algorithm\n",
    "- random forests creates a lot of decision trees and uses the mean of this trees for prediction, which reduces decision trees' tendency to overfitting\n",
    "- with random forest we get the best result, of all tested models with a rmse of 108.1"
   ]
  },
  {
   "cell_type": "code",
   "execution_count": 49,
   "metadata": {
    "collapsed": false,
    "scrolled": true
   },
   "outputs": [
    {
     "name": "stdout",
     "output_type": "stream",
     "text": [
      "mean_cross_val_scores: \n",
      "108.08383216919569\n",
      "\n",
      "Predicted y-values: \n",
      "0    422.40\n",
      "1    134.70\n",
      "2     15.25\n",
      "3    443.00\n",
      "4     13.00\n",
      "dtype: float64\n",
      "\n",
      "Original y-values: \n",
      "12830    425\n",
      "8688      88\n",
      "7091       4\n",
      "12230    526\n",
      "431       13\n",
      "Name: cnt, dtype: int64\n"
     ]
    }
   ],
   "source": [
    "from sklearn.ensemble import RandomForestRegressor\n",
    "\n",
    "forest = RandomForestRegressor()\n",
    "forest.fit(train_x, train_y)\n",
    "y_pred = forest.predict(test_x)\n",
    "y_pred = pd.Series(y_pred)\n",
    "\n",
    "scores = cross_val_score(forest, data_normal[feature_list], data_normal['cnt'],\n",
    "                         scoring=\"neg_mean_squared_error\", cv=10)\n",
    "forest_score = np.sqrt(-scores)\n",
    "print('mean_cross_val_scores: \\n{}'.format(np.mean(forest_score)))\n",
    "print('\\nPredicted y-values: \\n{}'.format(y_pred.head()))\n",
    "print('\\nOriginal y-values: \\n{}'.format(test_y.head()))"
   ]
  },
  {
   "cell_type": "markdown",
   "metadata": {},
   "source": [
    "### Finding Best Parameters for Random Forest <a id='params'></a>\n",
    "\n",
    "- Use scikit-learns GridSearchCV to find the best parameters for the Random Forest algorithm"
   ]
  },
  {
   "cell_type": "code",
   "execution_count": 50,
   "metadata": {
    "collapsed": false
   },
   "outputs": [
    {
     "name": "stdout",
     "output_type": "stream",
     "text": [
      "grid search finished\n"
     ]
    }
   ],
   "source": [
    "from sklearn.model_selection import GridSearchCV\n",
    "\n",
    "param_grid = [\n",
    "    # try 81 (3×3x3x3) combinations of hyperparameters\n",
    "    {'n_estimators': [10, 30, 50], 'max_features': [2, 4, 5], 'min_samples_split': [2,5,10], 'max_depth': [5,10,15]}\n",
    "  ]\n",
    "\n",
    "forest_reg = RandomForestRegressor(random_state=42)\n",
    "# train across 5 folds, that's a total of 81*5=405 rounds of training \n",
    "grid_search = GridSearchCV(forest_reg, param_grid, cv=5,\n",
    "                           scoring='neg_mean_squared_error')\n",
    "grid_search.fit(train_x, train_y)\n",
    "print(\"grid search finished\")"
   ]
  },
  {
   "cell_type": "code",
   "execution_count": 51,
   "metadata": {
    "collapsed": false
   },
   "outputs": [
    {
     "name": "stdout",
     "output_type": "stream",
     "text": [
      "Best Parameters:\n",
      "{'min_samples_split': 10, 'n_estimators': 50, 'max_features': 4, 'max_depth': 10}\n"
     ]
    }
   ],
   "source": [
    "print('Best Parameters:\\n{}'.format(grid_search.best_params_))"
   ]
  },
  {
   "cell_type": "code",
   "execution_count": 52,
   "metadata": {
    "collapsed": false
   },
   "outputs": [
    {
     "name": "stdout",
     "output_type": "stream",
     "text": [
      "Best Estimator:\n",
      "RandomForestRegressor(bootstrap=True, criterion='mse', max_depth=10,\n",
      "           max_features=4, max_leaf_nodes=None, min_impurity_split=1e-07,\n",
      "           min_samples_leaf=1, min_samples_split=10,\n",
      "           min_weight_fraction_leaf=0.0, n_estimators=50, n_jobs=1,\n",
      "           oob_score=False, random_state=42, verbose=0, warm_start=False)\n"
     ]
    }
   ],
   "source": [
    "print('Best Estimator:\\n{}'.format(grid_search.best_estimator_))"
   ]
  },
  {
   "cell_type": "code",
   "execution_count": 53,
   "metadata": {
    "collapsed": false
   },
   "outputs": [
    {
     "name": "stdout",
     "output_type": "stream",
     "text": [
      "Results:\n",
      "108.505436349 {'min_samples_split': 2, 'n_estimators': 10, 'max_features': 2, 'max_depth': 5}\n",
      "109.321867402 {'min_samples_split': 2, 'n_estimators': 30, 'max_features': 2, 'max_depth': 5}\n",
      "108.314243546 {'min_samples_split': 2, 'n_estimators': 50, 'max_features': 2, 'max_depth': 5}\n",
      "108.541299893 {'min_samples_split': 5, 'n_estimators': 10, 'max_features': 2, 'max_depth': 5}\n",
      "109.266457131 {'min_samples_split': 5, 'n_estimators': 30, 'max_features': 2, 'max_depth': 5}\n",
      "108.329935155 {'min_samples_split': 5, 'n_estimators': 50, 'max_features': 2, 'max_depth': 5}\n",
      "108.835451168 {'min_samples_split': 10, 'n_estimators': 10, 'max_features': 2, 'max_depth': 5}\n",
      "109.444032617 {'min_samples_split': 10, 'n_estimators': 30, 'max_features': 2, 'max_depth': 5}\n",
      "108.409329574 {'min_samples_split': 10, 'n_estimators': 50, 'max_features': 2, 'max_depth': 5}\n",
      "108.794345306 {'min_samples_split': 2, 'n_estimators': 10, 'max_features': 4, 'max_depth': 5}\n",
      "108.627948162 {'min_samples_split': 2, 'n_estimators': 30, 'max_features': 4, 'max_depth': 5}\n",
      "108.202633457 {'min_samples_split': 2, 'n_estimators': 50, 'max_features': 4, 'max_depth': 5}\n",
      "108.768360965 {'min_samples_split': 5, 'n_estimators': 10, 'max_features': 4, 'max_depth': 5}\n",
      "108.641410691 {'min_samples_split': 5, 'n_estimators': 30, 'max_features': 4, 'max_depth': 5}\n",
      "108.211257246 {'min_samples_split': 5, 'n_estimators': 50, 'max_features': 4, 'max_depth': 5}\n",
      "108.816072293 {'min_samples_split': 10, 'n_estimators': 10, 'max_features': 4, 'max_depth': 5}\n",
      "108.664200061 {'min_samples_split': 10, 'n_estimators': 30, 'max_features': 4, 'max_depth': 5}\n",
      "108.230176706 {'min_samples_split': 10, 'n_estimators': 50, 'max_features': 4, 'max_depth': 5}\n",
      "109.050649852 {'min_samples_split': 2, 'n_estimators': 10, 'max_features': 5, 'max_depth': 5}\n",
      "109.00708398 {'min_samples_split': 2, 'n_estimators': 30, 'max_features': 5, 'max_depth': 5}\n",
      "109.052808092 {'min_samples_split': 2, 'n_estimators': 50, 'max_features': 5, 'max_depth': 5}\n",
      "109.050660005 {'min_samples_split': 5, 'n_estimators': 10, 'max_features': 5, 'max_depth': 5}\n",
      "109.00708349 {'min_samples_split': 5, 'n_estimators': 30, 'max_features': 5, 'max_depth': 5}\n",
      "109.052807584 {'min_samples_split': 5, 'n_estimators': 50, 'max_features': 5, 'max_depth': 5}\n",
      "109.050660005 {'min_samples_split': 10, 'n_estimators': 10, 'max_features': 5, 'max_depth': 5}\n",
      "109.007099843 {'min_samples_split': 10, 'n_estimators': 30, 'max_features': 5, 'max_depth': 5}\n",
      "109.05281866 {'min_samples_split': 10, 'n_estimators': 50, 'max_features': 5, 'max_depth': 5}\n",
      "94.059757215 {'min_samples_split': 2, 'n_estimators': 10, 'max_features': 2, 'max_depth': 10}\n",
      "92.9068492918 {'min_samples_split': 2, 'n_estimators': 30, 'max_features': 2, 'max_depth': 10}\n",
      "92.8902402715 {'min_samples_split': 2, 'n_estimators': 50, 'max_features': 2, 'max_depth': 10}\n",
      "93.9297150573 {'min_samples_split': 5, 'n_estimators': 10, 'max_features': 2, 'max_depth': 10}\n",
      "93.1338924383 {'min_samples_split': 5, 'n_estimators': 30, 'max_features': 2, 'max_depth': 10}\n",
      "92.8484868423 {'min_samples_split': 5, 'n_estimators': 50, 'max_features': 2, 'max_depth': 10}\n",
      "93.6266866652 {'min_samples_split': 10, 'n_estimators': 10, 'max_features': 2, 'max_depth': 10}\n",
      "92.9964966994 {'min_samples_split': 10, 'n_estimators': 30, 'max_features': 2, 'max_depth': 10}\n",
      "92.8092753927 {'min_samples_split': 10, 'n_estimators': 50, 'max_features': 2, 'max_depth': 10}\n",
      "93.3037528051 {'min_samples_split': 2, 'n_estimators': 10, 'max_features': 4, 'max_depth': 10}\n",
      "92.670080289 {'min_samples_split': 2, 'n_estimators': 30, 'max_features': 4, 'max_depth': 10}\n",
      "92.5961917476 {'min_samples_split': 2, 'n_estimators': 50, 'max_features': 4, 'max_depth': 10}\n",
      "93.0662365189 {'min_samples_split': 5, 'n_estimators': 10, 'max_features': 4, 'max_depth': 10}\n",
      "92.5903528679 {'min_samples_split': 5, 'n_estimators': 30, 'max_features': 4, 'max_depth': 10}\n",
      "92.6660821357 {'min_samples_split': 5, 'n_estimators': 50, 'max_features': 4, 'max_depth': 10}\n",
      "92.8653792538 {'min_samples_split': 10, 'n_estimators': 10, 'max_features': 4, 'max_depth': 10}\n",
      "92.4564328435 {'min_samples_split': 10, 'n_estimators': 30, 'max_features': 4, 'max_depth': 10}\n",
      "92.4468093891 {'min_samples_split': 10, 'n_estimators': 50, 'max_features': 4, 'max_depth': 10}\n",
      "93.2649688107 {'min_samples_split': 2, 'n_estimators': 10, 'max_features': 5, 'max_depth': 10}\n",
      "92.8325166133 {'min_samples_split': 2, 'n_estimators': 30, 'max_features': 5, 'max_depth': 10}\n",
      "92.8431697868 {'min_samples_split': 2, 'n_estimators': 50, 'max_features': 5, 'max_depth': 10}\n",
      "93.1758837127 {'min_samples_split': 5, 'n_estimators': 10, 'max_features': 5, 'max_depth': 10}\n",
      "92.7825754116 {'min_samples_split': 5, 'n_estimators': 30, 'max_features': 5, 'max_depth': 10}\n",
      "92.78681087 {'min_samples_split': 5, 'n_estimators': 50, 'max_features': 5, 'max_depth': 10}\n",
      "92.9990685249 {'min_samples_split': 10, 'n_estimators': 10, 'max_features': 5, 'max_depth': 10}\n",
      "92.5831511276 {'min_samples_split': 10, 'n_estimators': 30, 'max_features': 5, 'max_depth': 10}\n",
      "92.5828818328 {'min_samples_split': 10, 'n_estimators': 50, 'max_features': 5, 'max_depth': 10}\n",
      "100.119666613 {'min_samples_split': 2, 'n_estimators': 10, 'max_features': 2, 'max_depth': 15}\n",
      "98.3625649478 {'min_samples_split': 2, 'n_estimators': 30, 'max_features': 2, 'max_depth': 15}\n",
      "98.11613632 {'min_samples_split': 2, 'n_estimators': 50, 'max_features': 2, 'max_depth': 15}\n",
      "96.8621671991 {'min_samples_split': 5, 'n_estimators': 10, 'max_features': 2, 'max_depth': 15}\n",
      "95.77992126 {'min_samples_split': 5, 'n_estimators': 30, 'max_features': 2, 'max_depth': 15}\n",
      "95.5094541594 {'min_samples_split': 5, 'n_estimators': 50, 'max_features': 2, 'max_depth': 15}\n",
      "94.9529041628 {'min_samples_split': 10, 'n_estimators': 10, 'max_features': 2, 'max_depth': 15}\n",
      "93.9166157093 {'min_samples_split': 10, 'n_estimators': 30, 'max_features': 2, 'max_depth': 15}\n",
      "93.7606031845 {'min_samples_split': 10, 'n_estimators': 50, 'max_features': 2, 'max_depth': 15}\n",
      "100.377338166 {'min_samples_split': 2, 'n_estimators': 10, 'max_features': 4, 'max_depth': 15}\n",
      "98.895105594 {'min_samples_split': 2, 'n_estimators': 30, 'max_features': 4, 'max_depth': 15}\n",
      "98.7632539615 {'min_samples_split': 2, 'n_estimators': 50, 'max_features': 4, 'max_depth': 15}\n",
      "97.9286437854 {'min_samples_split': 5, 'n_estimators': 10, 'max_features': 4, 'max_depth': 15}\n",
      "96.5688556174 {'min_samples_split': 5, 'n_estimators': 30, 'max_features': 4, 'max_depth': 15}\n",
      "96.3848362985 {'min_samples_split': 5, 'n_estimators': 50, 'max_features': 4, 'max_depth': 15}\n",
      "95.4786260845 {'min_samples_split': 10, 'n_estimators': 10, 'max_features': 4, 'max_depth': 15}\n",
      "94.3800099339 {'min_samples_split': 10, 'n_estimators': 30, 'max_features': 4, 'max_depth': 15}\n",
      "94.2004556731 {'min_samples_split': 10, 'n_estimators': 50, 'max_features': 4, 'max_depth': 15}\n",
      "100.451424302 {'min_samples_split': 2, 'n_estimators': 10, 'max_features': 5, 'max_depth': 15}\n",
      "99.0654637545 {'min_samples_split': 2, 'n_estimators': 30, 'max_features': 5, 'max_depth': 15}\n",
      "98.8620113737 {'min_samples_split': 2, 'n_estimators': 50, 'max_features': 5, 'max_depth': 15}\n",
      "98.3925533914 {'min_samples_split': 5, 'n_estimators': 10, 'max_features': 5, 'max_depth': 15}\n",
      "97.0978821333 {'min_samples_split': 5, 'n_estimators': 30, 'max_features': 5, 'max_depth': 15}\n",
      "96.9178165031 {'min_samples_split': 5, 'n_estimators': 50, 'max_features': 5, 'max_depth': 15}\n",
      "95.8012244944 {'min_samples_split': 10, 'n_estimators': 10, 'max_features': 5, 'max_depth': 15}\n",
      "94.6848335135 {'min_samples_split': 10, 'n_estimators': 30, 'max_features': 5, 'max_depth': 15}\n",
      "94.6128153088 {'min_samples_split': 10, 'n_estimators': 50, 'max_features': 5, 'max_depth': 15}\n"
     ]
    }
   ],
   "source": [
    "cvres = grid_search.cv_results_\n",
    "print('Results:')\n",
    "for mean_score, params in zip(cvres[\"mean_test_score\"], cvres[\"params\"]):\n",
    "    print(np.sqrt(-mean_score), params)"
   ]
  },
  {
   "cell_type": "markdown",
   "metadata": {},
   "source": [
    "### Results <a id='results'></a>\n",
    "\n",
    "Best results are archived with a Random Forest algorithm and the following parameters: <br>\n",
    "{'min_samples_split': 10, 'n_estimators': 50, 'max_features': 4, 'max_depth': 10}"
   ]
  },
  {
   "cell_type": "code",
   "execution_count": 56,
   "metadata": {
    "collapsed": false
   },
   "outputs": [
    {
     "name": "stdout",
     "output_type": "stream",
     "text": [
      "Final RMSE on test set: 86.84862295364098\n",
      "\n",
      "Predicted y-values: \n",
      "0    513.332702\n",
      "1    139.032670\n",
      "2     15.070293\n",
      "3    510.067630\n",
      "4     20.579316\n",
      "dtype: float64\n",
      "\n",
      "Original y-values: \n",
      "12830    425\n",
      "8688      88\n",
      "7091       4\n",
      "12230    526\n",
      "431       13\n",
      "Name: cnt, dtype: int64\n"
     ]
    }
   ],
   "source": [
    "final_model = grid_search.best_estimator_\n",
    "\n",
    "final_predictions = final_model.predict(test_x)\n",
    "final_predictions = pd.Series(final_predictions)\n",
    "final_mse = mean_squared_error(test_y, final_predictions)\n",
    "final_rmse = np.sqrt(final_mse)\n",
    "print('Final RMSE on test set: {}'.format(final_rmse))\n",
    "print('\\nPredicted y-values: \\n{}'.format(final_predictions.head()))\n",
    "print('\\nOriginal y-values: \\n{}'.format(test_y.head()))"
   ]
  }
 ],
 "metadata": {
  "anaconda-cloud": {},
  "kernelspec": {
   "display_name": "Python [default]",
   "language": "python",
   "name": "python3"
  }
 },
 "nbformat": 4,
 "nbformat_minor": 0
}
